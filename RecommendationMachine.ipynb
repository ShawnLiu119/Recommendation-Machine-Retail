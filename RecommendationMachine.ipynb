{
  "nbformat": 4,
  "nbformat_minor": 0,
  "metadata": {
    "colab": {
      "provenance": [],
      "authorship_tag": "ABX9TyNznKlLE7HPf5QK7MCWOltc",
      "include_colab_link": true
    },
    "kernelspec": {
      "name": "python3",
      "display_name": "Python 3"
    },
    "language_info": {
      "name": "python"
    }
  },
  "cells": [
    {
      "cell_type": "markdown",
      "metadata": {
        "id": "view-in-github",
        "colab_type": "text"
      },
      "source": [
        "<a href=\"https://colab.research.google.com/github/ShawnLiu119/Recommendation-Machine-Retail/blob/main/RecommendationMachine.ipynb\" target=\"_parent\"><img src=\"https://colab.research.google.com/assets/colab-badge.svg\" alt=\"Open In Colab\"/></a>"
      ]
    },
    {
      "cell_type": "code",
      "execution_count": null,
      "metadata": {
        "id": "CHxHc7yRe6-O"
      },
      "outputs": [],
      "source": [
        "#Importing libraries for data management\n",
        "import gzip\n",
        "import json\n",
        "import pandas as pd\n",
        "from tqdm import tqdm_notebook as tqdm\n",
        "\n",
        "#Importing libraries for feature engineering\n",
        "import nltk\n",
        "import re\n",
        "from nltk.corpus import stopwords\n",
        "from sklearn.feature_extraction.text import CountVectorizer \n",
        "from sklearn.metrics.pairwise import cosine_similarity"
      ]
    },
    {
      "cell_type": "markdown",
      "source": [
        "gzip：解压数据文件\n",
        "\n",
        "json ：解码\n",
        "\n",
        "pandas：将JSON数据转换为更易于管理的数据帧格式\n",
        "\n",
        "tqdm：创建进度条\n",
        "\n",
        "nltk ：处理文本字符串\n",
        "\n",
        "re：提供正则表达式支持\n",
        "\n",
        "sklearn ：文本预处理"
      ],
      "metadata": {
        "id": "39KGT7tmgmKi"
      }
    },
    {
      "cell_type": "code",
      "source": [
        "from google.colab import drive\n",
        "drive.mount('/content/Mydrive')"
      ],
      "metadata": {
        "id": "miVlWiX9gmqL",
        "colab": {
          "base_uri": "https://localhost:8080/"
        },
        "outputId": "3612c34e-f0be-4c2b-a635-0ae82010a4df"
      },
      "execution_count": 2,
      "outputs": [
        {
          "output_type": "stream",
          "name": "stdout",
          "text": [
            "Mounted at /content/Mydrive\n"
          ]
        }
      ]
    },
    {
      "cell_type": "code",
      "source": [
        "path = '/content/Mydrive/MyDrive/Recommendation_Machine_Retail/meta_Electronics.json.gz'"
      ],
      "metadata": {
        "id": "2_UaKM-Gg-Ns"
      },
      "execution_count": null,
      "outputs": []
    },
    {
      "cell_type": "code",
      "source": [
        "\n",
        "#Creating an empty list\n",
        "data = []\n",
        "\n",
        "#Decoding the gzip file\n",
        "def parse(path):\n",
        "  g = gzip.open(path, 'r')\n",
        "  for l in g:\n",
        "    yield json.dumps(eval(l))\n",
        "\n",
        "#Defining f as the file that will contain json data\n",
        "f = open(\"output_strict.json\", 'w')\n",
        "\n",
        "#Defining linebreak as '\\n' and writing one at the end of each line\n",
        "for l in parse(\"meta_Electronics.json.gz\"):\n",
        "  f.write(l + '\\n')\n",
        "\n",
        "#Appending each json element to the empty 'data' list\n",
        "with open('output_strict.json', 'r') as f:\n",
        "    for l in tqdm(f):\n",
        "        data.append(json.loads(l))\n",
        "\n",
        "#Reading 'data' as a pandas dataframe\n",
        "full = pd.DataFrame(data)"
      ],
      "metadata": {
        "id": "RN4brZ3B91Ij"
      },
      "execution_count": null,
      "outputs": []
    }
  ]
}